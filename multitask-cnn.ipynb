{
 "cells": [
  {
   "cell_type": "markdown",
   "id": "900caf14",
   "metadata": {
    "papermill": {
     "duration": 0.009047,
     "end_time": "2024-03-02T15:46:54.694644",
     "exception": false,
     "start_time": "2024-03-02T15:46:54.685597",
     "status": "completed"
    },
    "tags": []
   },
   "source": [
    "### <font color='orange'>0. Imports</font>"
   ]
  },
  {
   "cell_type": "code",
   "execution_count": 1,
   "id": "5a1bce51",
   "metadata": {
    "_cell_guid": "b1076dfc-b9ad-4769-8c92-a6c4dae69d19",
    "_uuid": "8f2839f25d086af736a60e9eeb907d3b93b6e0e5",
    "execution": {
     "iopub.execute_input": "2024-03-02T15:46:54.712899Z",
     "iopub.status.busy": "2024-03-02T15:46:54.712608Z",
     "iopub.status.idle": "2024-03-02T15:47:07.511814Z",
     "shell.execute_reply": "2024-03-02T15:47:07.510986Z"
    },
    "papermill": {
     "duration": 12.810969,
     "end_time": "2024-03-02T15:47:07.514181",
     "exception": false,
     "start_time": "2024-03-02T15:46:54.703212",
     "status": "completed"
    },
    "tags": []
   },
   "outputs": [],
   "source": [
    "# For numerical manipulation\n",
    "import numpy as np\n",
    "\n",
    "# For dataframes utilization\n",
    "import pandas as pd\n",
    "\n",
    "# File operations\n",
    "import os\n",
    "\n",
    "\n",
    "# Tensorflow for CNN model\n",
    "import tensorflow as tf\n",
    "from tensorflow import keras\n",
    "from keras import layers\n",
    "\n",
    "\n",
    "from sklearn.metrics import average_precision_score\n",
    "from keras.models import load_model"
   ]
  },
  {
   "cell_type": "markdown",
   "id": "e5c5eac6",
   "metadata": {
    "papermill": {
     "duration": 0.008381,
     "end_time": "2024-03-02T15:47:07.531810",
     "exception": false,
     "start_time": "2024-03-02T15:47:07.523429",
     "status": "completed"
    },
    "tags": []
   },
   "source": [
    "### <font color='orange'>2. Creating the TDCSFOG Dataset</font>"
   ]
  },
  {
   "cell_type": "markdown",
   "id": "df26b49f",
   "metadata": {
    "papermill": {
     "duration": 0.008271,
     "end_time": "2024-03-02T15:47:07.548787",
     "exception": false,
     "start_time": "2024-03-02T15:47:07.540516",
     "status": "completed"
    },
    "tags": []
   },
   "source": [
    "### <font color='purple'>2.1. Train</font>"
   ]
  },
  {
   "cell_type": "code",
   "execution_count": 2,
   "id": "0597a6d2",
   "metadata": {
    "execution": {
     "iopub.execute_input": "2024-03-02T15:47:07.567440Z",
     "iopub.status.busy": "2024-03-02T15:47:07.566854Z",
     "iopub.status.idle": "2024-03-02T15:47:26.317494Z",
     "shell.execute_reply": "2024-03-02T15:47:26.316482Z"
    },
    "papermill": {
     "duration": 18.762691,
     "end_time": "2024-03-02T15:47:26.319920",
     "exception": false,
     "start_time": "2024-03-02T15:47:07.557229",
     "status": "completed"
    },
    "tags": []
   },
   "outputs": [],
   "source": [
    "directory = 'data/train/tdcsfog/'\n",
    "\n",
    "# Initialize an empty list to store DataFrames\n",
    "dfs = []\n",
    "\n",
    "# Iterate through each file in the directory\n",
    "for filename in os.listdir(directory):  \n",
    "    file_path = os.path.join(directory, filename)\n",
    "    # Read the CSV file into a DataFrame and append to the list\n",
    "    df = pd.read_csv(file_path)\n",
    "    file_id = os.path.splitext(filename)[0]\n",
    "    df['Id_file'] = file_id\n",
    "    columns = ['Id_file']+[col for col in df if col != 'Id_file']\n",
    "    df = df[columns]\n",
    "    dfs.append(df)\n",
    "\n",
    "# Concatenate all DataFrames in the list into a single DataFrame\n",
    "data = pd.concat(dfs, ignore_index=True) # The ignore_index=True argument is used to reset the index of the concatenated DataFrame so that it starts from 0 and increments linearly, regardless of the original indices of the individual DataFrames."
   ]
  },
  {
   "cell_type": "code",
   "execution_count": 3,
   "id": "3ec3bc14",
   "metadata": {},
   "outputs": [],
   "source": [
    "directory = 'data/train/defog'\n",
    "\n",
    "# Initialize an empty list to store DataFrames\n",
    "defog_dfs = []\n",
    "\n",
    "# Iterate through each file in the directory\n",
    "for filename in os.listdir(directory):  \n",
    "    file_path = os.path.join(directory, filename)\n",
    "    # Read the CSV file into a DataFrame and append to the list\n",
    "    df = pd.read_csv(file_path)\n",
    "    file_id = os.path.splitext(filename)[0]\n",
    "    df['Id_file'] = file_id\n",
    "    columns = ['Id_file']+[col for col in df if col != 'Id_file']\n",
    "    df = df[columns]\n",
    "    defog_dfs.append(df)\n",
    "\n",
    "# Concatenate all DataFrames in the list into a single DataFrame\n",
    "defogdata = pd.concat(defog_dfs, ignore_index=True) # The ignore_index=True argument is used to reset the index of the concatenate"
   ]
  },
  {
   "cell_type": "code",
   "execution_count": 4,
   "id": "6dd8f8d8",
   "metadata": {},
   "outputs": [],
   "source": [
    "filtereddefog_df = defogdata[(defogdata['Valid'] == True) & (defogdata['Task'] == True)]"
   ]
  },
  {
   "cell_type": "code",
   "execution_count": 5,
   "id": "18b0317b",
   "metadata": {
    "execution": {
     "iopub.execute_input": "2024-03-02T15:47:52.271573Z",
     "iopub.status.busy": "2024-03-02T15:47:52.271224Z",
     "iopub.status.idle": "2024-03-02T15:47:53.249334Z",
     "shell.execute_reply": "2024-03-02T15:47:53.248322Z"
    },
    "papermill": {
     "duration": 0.98968,
     "end_time": "2024-03-02T15:47:53.251651",
     "exception": false,
     "start_time": "2024-03-02T15:47:52.261971",
     "status": "completed"
    },
    "tags": []
   },
   "outputs": [],
   "source": [
    "data = pd.concat([data,filtereddefog_df],ignore_index=True)"
   ]
  },
  {
   "cell_type": "code",
   "execution_count": 6,
   "id": "8608922f",
   "metadata": {
    "execution": {
     "iopub.execute_input": "2024-03-02T15:47:53.270286Z",
     "iopub.status.busy": "2024-03-02T15:47:53.269976Z",
     "iopub.status.idle": "2024-03-02T15:47:53.868395Z",
     "shell.execute_reply": "2024-03-02T15:47:53.867431Z"
    },
    "papermill": {
     "duration": 0.610088,
     "end_time": "2024-03-02T15:47:53.870556",
     "exception": false,
     "start_time": "2024-03-02T15:47:53.260468",
     "status": "completed"
    },
    "tags": []
   },
   "outputs": [
    {
     "data": {
      "text/html": [
       "<div>\n",
       "<style scoped>\n",
       "    .dataframe tbody tr th:only-of-type {\n",
       "        vertical-align: middle;\n",
       "    }\n",
       "\n",
       "    .dataframe tbody tr th {\n",
       "        vertical-align: top;\n",
       "    }\n",
       "\n",
       "    .dataframe thead th {\n",
       "        text-align: right;\n",
       "    }\n",
       "</style>\n",
       "<table border=\"1\" class=\"dataframe\">\n",
       "  <thead>\n",
       "    <tr style=\"text-align: right;\">\n",
       "      <th></th>\n",
       "      <th>Id_file</th>\n",
       "      <th>Time</th>\n",
       "      <th>AccV</th>\n",
       "      <th>AccML</th>\n",
       "      <th>AccAP</th>\n",
       "      <th>StartHesitation</th>\n",
       "      <th>Turn</th>\n",
       "      <th>Walking</th>\n",
       "      <th>Valid</th>\n",
       "      <th>Task</th>\n",
       "    </tr>\n",
       "  </thead>\n",
       "  <tbody>\n",
       "    <tr>\n",
       "      <th>0</th>\n",
       "      <td>003f117e14</td>\n",
       "      <td>0</td>\n",
       "      <td>-9.533939</td>\n",
       "      <td>0.566322</td>\n",
       "      <td>-1.413525</td>\n",
       "      <td>0</td>\n",
       "      <td>0</td>\n",
       "      <td>0</td>\n",
       "      <td>NaN</td>\n",
       "      <td>NaN</td>\n",
       "    </tr>\n",
       "    <tr>\n",
       "      <th>1</th>\n",
       "      <td>003f117e14</td>\n",
       "      <td>1</td>\n",
       "      <td>-9.536140</td>\n",
       "      <td>0.564137</td>\n",
       "      <td>-1.440621</td>\n",
       "      <td>0</td>\n",
       "      <td>0</td>\n",
       "      <td>0</td>\n",
       "      <td>NaN</td>\n",
       "      <td>NaN</td>\n",
       "    </tr>\n",
       "    <tr>\n",
       "      <th>2</th>\n",
       "      <td>003f117e14</td>\n",
       "      <td>2</td>\n",
       "      <td>-9.529345</td>\n",
       "      <td>0.561765</td>\n",
       "      <td>-1.429332</td>\n",
       "      <td>0</td>\n",
       "      <td>0</td>\n",
       "      <td>0</td>\n",
       "      <td>NaN</td>\n",
       "      <td>NaN</td>\n",
       "    </tr>\n",
       "    <tr>\n",
       "      <th>3</th>\n",
       "      <td>003f117e14</td>\n",
       "      <td>3</td>\n",
       "      <td>-9.531239</td>\n",
       "      <td>0.564227</td>\n",
       "      <td>-1.415490</td>\n",
       "      <td>0</td>\n",
       "      <td>0</td>\n",
       "      <td>0</td>\n",
       "      <td>NaN</td>\n",
       "      <td>NaN</td>\n",
       "    </tr>\n",
       "    <tr>\n",
       "      <th>4</th>\n",
       "      <td>003f117e14</td>\n",
       "      <td>4</td>\n",
       "      <td>-9.540825</td>\n",
       "      <td>0.561854</td>\n",
       "      <td>-1.429471</td>\n",
       "      <td>0</td>\n",
       "      <td>0</td>\n",
       "      <td>0</td>\n",
       "      <td>NaN</td>\n",
       "      <td>NaN</td>\n",
       "    </tr>\n",
       "    <tr>\n",
       "      <th>...</th>\n",
       "      <td>...</td>\n",
       "      <td>...</td>\n",
       "      <td>...</td>\n",
       "      <td>...</td>\n",
       "      <td>...</td>\n",
       "      <td>...</td>\n",
       "      <td>...</td>\n",
       "      <td>...</td>\n",
       "      <td>...</td>\n",
       "      <td>...</td>\n",
       "    </tr>\n",
       "    <tr>\n",
       "      <th>11153197</th>\n",
       "      <td>f9fc61ce85</td>\n",
       "      <td>119027</td>\n",
       "      <td>-0.961216</td>\n",
       "      <td>0.142428</td>\n",
       "      <td>-0.289655</td>\n",
       "      <td>0</td>\n",
       "      <td>0</td>\n",
       "      <td>0</td>\n",
       "      <td>True</td>\n",
       "      <td>True</td>\n",
       "    </tr>\n",
       "    <tr>\n",
       "      <th>11153198</th>\n",
       "      <td>f9fc61ce85</td>\n",
       "      <td>119028</td>\n",
       "      <td>-0.960343</td>\n",
       "      <td>0.142836</td>\n",
       "      <td>-0.290506</td>\n",
       "      <td>0</td>\n",
       "      <td>0</td>\n",
       "      <td>0</td>\n",
       "      <td>True</td>\n",
       "      <td>True</td>\n",
       "    </tr>\n",
       "    <tr>\n",
       "      <th>11153199</th>\n",
       "      <td>f9fc61ce85</td>\n",
       "      <td>119029</td>\n",
       "      <td>-0.957958</td>\n",
       "      <td>0.145494</td>\n",
       "      <td>-0.290007</td>\n",
       "      <td>0</td>\n",
       "      <td>0</td>\n",
       "      <td>0</td>\n",
       "      <td>True</td>\n",
       "      <td>True</td>\n",
       "    </tr>\n",
       "    <tr>\n",
       "      <th>11153200</th>\n",
       "      <td>f9fc61ce85</td>\n",
       "      <td>119030</td>\n",
       "      <td>-0.960616</td>\n",
       "      <td>0.145839</td>\n",
       "      <td>-0.291527</td>\n",
       "      <td>0</td>\n",
       "      <td>0</td>\n",
       "      <td>0</td>\n",
       "      <td>True</td>\n",
       "      <td>True</td>\n",
       "    </tr>\n",
       "    <tr>\n",
       "      <th>11153201</th>\n",
       "      <td>f9fc61ce85</td>\n",
       "      <td>119031</td>\n",
       "      <td>-0.967076</td>\n",
       "      <td>0.144342</td>\n",
       "      <td>-0.292384</td>\n",
       "      <td>0</td>\n",
       "      <td>0</td>\n",
       "      <td>0</td>\n",
       "      <td>True</td>\n",
       "      <td>True</td>\n",
       "    </tr>\n",
       "  </tbody>\n",
       "</table>\n",
       "<p>11153202 rows × 10 columns</p>\n",
       "</div>"
      ],
      "text/plain": [
       "             Id_file    Time      AccV     AccML     AccAP  StartHesitation  \\\n",
       "0         003f117e14       0 -9.533939  0.566322 -1.413525                0   \n",
       "1         003f117e14       1 -9.536140  0.564137 -1.440621                0   \n",
       "2         003f117e14       2 -9.529345  0.561765 -1.429332                0   \n",
       "3         003f117e14       3 -9.531239  0.564227 -1.415490                0   \n",
       "4         003f117e14       4 -9.540825  0.561854 -1.429471                0   \n",
       "...              ...     ...       ...       ...       ...              ...   \n",
       "11153197  f9fc61ce85  119027 -0.961216  0.142428 -0.289655                0   \n",
       "11153198  f9fc61ce85  119028 -0.960343  0.142836 -0.290506                0   \n",
       "11153199  f9fc61ce85  119029 -0.957958  0.145494 -0.290007                0   \n",
       "11153200  f9fc61ce85  119030 -0.960616  0.145839 -0.291527                0   \n",
       "11153201  f9fc61ce85  119031 -0.967076  0.144342 -0.292384                0   \n",
       "\n",
       "          Turn  Walking Valid  Task  \n",
       "0            0        0   NaN   NaN  \n",
       "1            0        0   NaN   NaN  \n",
       "2            0        0   NaN   NaN  \n",
       "3            0        0   NaN   NaN  \n",
       "4            0        0   NaN   NaN  \n",
       "...        ...      ...   ...   ...  \n",
       "11153197     0        0  True  True  \n",
       "11153198     0        0  True  True  \n",
       "11153199     0        0  True  True  \n",
       "11153200     0        0  True  True  \n",
       "11153201     0        0  True  True  \n",
       "\n",
       "[11153202 rows x 10 columns]"
      ]
     },
     "execution_count": 6,
     "metadata": {},
     "output_type": "execute_result"
    }
   ],
   "source": [
    "data"
   ]
  },
  {
   "cell_type": "code",
   "execution_count": 7,
   "id": "cbfe6c18",
   "metadata": {
    "execution": {
     "iopub.execute_input": "2024-03-02T15:47:53.890953Z",
     "iopub.status.busy": "2024-03-02T15:47:53.890688Z",
     "iopub.status.idle": "2024-03-02T15:47:53.896611Z",
     "shell.execute_reply": "2024-03-02T15:47:53.895878Z"
    },
    "papermill": {
     "duration": 0.01884,
     "end_time": "2024-03-02T15:47:53.898518",
     "exception": false,
     "start_time": "2024-03-02T15:47:53.879678",
     "status": "completed"
    },
    "tags": []
   },
   "outputs": [],
   "source": [
    "x_train = data[['AccV','AccML','AccAP']].copy().values\n",
    "y_walking_train = data['Walking']\n",
    "y_turn_train = data['Turn']\n",
    "y_SH_train = data['StartHesitation']"
   ]
  },
  {
   "cell_type": "code",
   "execution_count": 8,
   "id": "9f605130",
   "metadata": {
    "execution": {
     "iopub.execute_input": "2024-03-02T15:47:53.917171Z",
     "iopub.status.busy": "2024-03-02T15:47:53.916914Z",
     "iopub.status.idle": "2024-03-02T15:47:53.922301Z",
     "shell.execute_reply": "2024-03-02T15:47:53.921514Z"
    },
    "papermill": {
     "duration": 0.016753,
     "end_time": "2024-03-02T15:47:53.924089",
     "exception": false,
     "start_time": "2024-03-02T15:47:53.907336",
     "status": "completed"
    },
    "tags": []
   },
   "outputs": [
    {
     "data": {
      "text/plain": [
       "11153202"
      ]
     },
     "execution_count": 8,
     "metadata": {},
     "output_type": "execute_result"
    }
   ],
   "source": [
    "len(x_train)"
   ]
  },
  {
   "cell_type": "code",
   "execution_count": 9,
   "id": "444c1289",
   "metadata": {
    "execution": {
     "iopub.execute_input": "2024-03-02T15:47:53.943706Z",
     "iopub.status.busy": "2024-03-02T15:47:53.943030Z",
     "iopub.status.idle": "2024-03-02T15:47:53.947455Z",
     "shell.execute_reply": "2024-03-02T15:47:53.946656Z"
    },
    "papermill": {
     "duration": 0.016344,
     "end_time": "2024-03-02T15:47:53.949538",
     "exception": false,
     "start_time": "2024-03-02T15:47:53.933194",
     "status": "completed"
    },
    "tags": []
   },
   "outputs": [],
   "source": [
    "x_train = x_train.reshape((x_train.shape[0], x_train.shape[1], 1))\n",
    "\n",
    "num_classes = 2\n",
    "\n",
    "# idx = np.random.permutation(len(x_train))\n",
    "# x_train = x_train[idx]\n",
    "# y_walking_train = y_walking_train[idx]\n",
    "# y_turn_train = y_turn_train[idx]\n",
    "# y_SH_train = y_SH_train[idx]"
   ]
  },
  {
   "cell_type": "markdown",
   "id": "5365b938",
   "metadata": {
    "papermill": {
     "duration": 0.008849,
     "end_time": "2024-03-02T15:47:53.967509",
     "exception": false,
     "start_time": "2024-03-02T15:47:53.958660",
     "status": "completed"
    },
    "tags": []
   },
   "source": [
    "### <font color='purple'>2.2. Test</font>"
   ]
  },
  {
   "cell_type": "code",
   "execution_count": 10,
   "id": "ee6dfb2a",
   "metadata": {
    "execution": {
     "iopub.execute_input": "2024-03-02T15:47:53.986690Z",
     "iopub.status.busy": "2024-03-02T15:47:53.986080Z",
     "iopub.status.idle": "2024-03-02T15:47:54.015498Z",
     "shell.execute_reply": "2024-03-02T15:47:54.014737Z"
    },
    "papermill": {
     "duration": 0.04117,
     "end_time": "2024-03-02T15:47:54.017519",
     "exception": false,
     "start_time": "2024-03-02T15:47:53.976349",
     "status": "completed"
    },
    "tags": []
   },
   "outputs": [],
   "source": [
    "test_directory = 'data/test/tdcsfog'\n",
    "\n",
    "# Initialize an empty list to store DataFrames\n",
    "test_dfs = []\n",
    "\n",
    "\n",
    "# Iterate through each file in the directory\n",
    "for filename in os.listdir(test_directory):  \n",
    "    file_path = os.path.join(test_directory, filename)\n",
    "    # Read the CSV file into a DataFrame and append to the list\n",
    "    test_df = pd.read_csv(file_path)\n",
    "    file_id = os.path.splitext(filename)[0]\n",
    "    df['Id_file'] = file_id\n",
    "    columns = ['Id_file']+[col for col in df if col != 'Id_file']\n",
    "    df = df[columns]\n",
    "    test_dfs.append(df)\n",
    "# Concatenate all DataFrames in the list into a single DataFrame\n",
    "test_data = pd.concat(test_dfs, ignore_index=True)"
   ]
  },
  {
   "cell_type": "code",
   "execution_count": 11,
   "id": "4942f9dd",
   "metadata": {
    "execution": {
     "iopub.execute_input": "2024-03-02T15:47:54.036633Z",
     "iopub.status.busy": "2024-03-02T15:47:54.036380Z",
     "iopub.status.idle": "2024-03-02T15:47:54.433024Z",
     "shell.execute_reply": "2024-03-02T15:47:54.432132Z"
    },
    "papermill": {
     "duration": 0.408674,
     "end_time": "2024-03-02T15:47:54.435417",
     "exception": false,
     "start_time": "2024-03-02T15:47:54.026743",
     "status": "completed"
    },
    "tags": []
   },
   "outputs": [],
   "source": [
    "test_directory = 'data/test/defog'\n",
    "\n",
    "# Initialize an empty list to store DataFrames\n",
    "test_dfs = []\n",
    "\n",
    "# Iterate through each file in the directory\n",
    "for filename in os.listdir(test_directory):  \n",
    "    file_path = os.path.join(test_directory, filename)\n",
    "    # Read the CSV file into a DataFrame and append to the list\n",
    "    test_df = pd.read_csv(file_path)\n",
    "    file_id = os.path.splitext(filename)[0]\n",
    "    df['Id_file'] = file_id\n",
    "    columns = ['Id_file']+[col for col in df if col != 'Id_file']\n",
    "    df = df[columns]\n",
    "    test_dfs.append(df)\n",
    "# Concatenate all DataFrames in the list into a single DataFrame\n",
    "test_defogdata = pd.concat(test_dfs, ignore_index=True)"
   ]
  },
  {
   "cell_type": "code",
   "execution_count": 12,
   "id": "82c2c5ef",
   "metadata": {
    "execution": {
     "iopub.execute_input": "2024-03-02T15:47:54.456295Z",
     "iopub.status.busy": "2024-03-02T15:47:54.455997Z",
     "iopub.status.idle": "2024-03-02T15:47:54.467108Z",
     "shell.execute_reply": "2024-03-02T15:47:54.466272Z"
    },
    "papermill": {
     "duration": 0.023095,
     "end_time": "2024-03-02T15:47:54.469091",
     "exception": false,
     "start_time": "2024-03-02T15:47:54.445996",
     "status": "completed"
    },
    "tags": []
   },
   "outputs": [],
   "source": [
    "test_data = pd.concat([test_data,test_defogdata],ignore_index=True)"
   ]
  },
  {
   "cell_type": "code",
   "execution_count": 13,
   "id": "8c841472",
   "metadata": {
    "execution": {
     "iopub.execute_input": "2024-03-02T15:47:54.488454Z",
     "iopub.status.busy": "2024-03-02T15:47:54.487871Z",
     "iopub.status.idle": "2024-03-02T15:47:54.497288Z",
     "shell.execute_reply": "2024-03-02T15:47:54.496628Z"
    },
    "papermill": {
     "duration": 0.021098,
     "end_time": "2024-03-02T15:47:54.499131",
     "exception": false,
     "start_time": "2024-03-02T15:47:54.478033",
     "status": "completed"
    },
    "tags": []
   },
   "outputs": [],
   "source": [
    "x_test = test_data[['AccV','AccML','AccAP']].copy().values\n",
    "y_walking_test = test_data['Walking']\n",
    "y_turn_test = test_data['Turn']\n",
    "y_SH_test = test_data['StartHesitation']\n"
   ]
  },
  {
   "cell_type": "code",
   "execution_count": 14,
   "id": "a48a160a",
   "metadata": {
    "execution": {
     "iopub.execute_input": "2024-03-02T15:47:54.517959Z",
     "iopub.status.busy": "2024-03-02T15:47:54.517718Z",
     "iopub.status.idle": "2024-03-02T15:47:54.570369Z",
     "shell.execute_reply": "2024-03-02T15:47:54.569674Z"
    },
    "papermill": {
     "duration": 0.064273,
     "end_time": "2024-03-02T15:47:54.572363",
     "exception": false,
     "start_time": "2024-03-02T15:47:54.508090",
     "status": "completed"
    },
    "tags": []
   },
   "outputs": [],
   "source": [
    "x_test = x_test.reshape((x_test.shape[0], x_test.shape[1], 1))\n",
    "idx = np.random.permutation(len(x_test))\n",
    "x_test = x_test[idx]\n",
    "y_walking_test = y_walking_test[idx]\n",
    "y_turn_test = y_turn_test[idx]\n",
    "y_SH_test = y_SH_test[idx]"
   ]
  },
  {
   "cell_type": "markdown",
   "id": "e1bf896c",
   "metadata": {
    "papermill": {
     "duration": 0.008807,
     "end_time": "2024-03-02T15:47:54.590145",
     "exception": false,
     "start_time": "2024-03-02T15:47:54.581338",
     "status": "completed"
    },
    "tags": []
   },
   "source": [
    "### <font color='orange'>3. CNN model</font>"
   ]
  },
  {
   "cell_type": "markdown",
   "id": "79ab442b",
   "metadata": {
    "papermill": {
     "duration": 0.00857,
     "end_time": "2024-03-02T15:47:54.607607",
     "exception": false,
     "start_time": "2024-03-02T15:47:54.599037",
     "status": "completed"
    },
    "tags": []
   },
   "source": [
    "### <font color='purple'>3.1. Defining model</font>"
   ]
  },
  {
   "cell_type": "code",
   "execution_count": 16,
   "id": "44f5d438",
   "metadata": {
    "execution": {
     "iopub.execute_input": "2024-03-02T15:47:54.626521Z",
     "iopub.status.busy": "2024-03-02T15:47:54.626194Z",
     "iopub.status.idle": "2024-03-02T15:47:55.750127Z",
     "shell.execute_reply": "2024-03-02T15:47:55.749376Z"
    },
    "papermill": {
     "duration": 1.136066,
     "end_time": "2024-03-02T15:47:55.752497",
     "exception": false,
     "start_time": "2024-03-02T15:47:54.616431",
     "status": "completed"
    },
    "tags": []
   },
   "outputs": [],
   "source": [
    "\n",
    "def make_multitask_model(input_shape):\n",
    "    input_layer = keras.layers.Input(shape=input_shape)\n",
    "\n",
    "    # Define convolutional block with BatchNormalization and ReLU activation\n",
    "    def conv_block(x, filters, kernel_size):\n",
    "        x = keras.layers.Conv1D(filters=filters, kernel_size=kernel_size, padding=\"same\")(x)\n",
    "        x = keras.layers.BatchNormalization()(x)\n",
    "        x = keras.layers.ReLU()(x)\n",
    "        return x\n",
    "\n",
    "    # Shared CNN feature extraction\n",
    "    conv1 = conv_block(input_layer, filters=64, kernel_size=3)\n",
    "    conv2 = conv_block(conv1, filters=64, kernel_size=3)\n",
    "    conv3 = conv_block(conv2, filters=64, kernel_size=3)\n",
    "\n",
    "    gap = keras.layers.GlobalAveragePooling1D()(conv3)\n",
    "\n",
    "    # Multi-task output layers\n",
    "    walking_output = keras.layers.Dense(1, activation=\"sigmoid\", name=\"walking\")(gap)\n",
    "    turning_output = keras.layers.Dense(1, activation=\"sigmoid\", name=\"turning\")(gap)\n",
    "    sh_output = keras.layers.Dense(1, activation=\"sigmoid\", name=\"start_hesitation\")(gap)\n",
    "\n",
    "    return keras.models.Model(inputs=input_layer, outputs=[walking_output, turning_output, sh_output])\n",
    "\n",
    "# Create model\n",
    "model = make_multitask_model(input_shape=x_train.shape[1:])\n",
    "\n",
    "\n"
   ]
  },
  {
   "cell_type": "code",
   "execution_count": 21,
   "id": "15fac7c3",
   "metadata": {},
   "outputs": [],
   "source": [
    "from tensorflow.keras.optimizers import Adam\n",
    "\n",
    "optimizer = Adam(learning_rate=0.0005)\n",
    "model.compile(optimizer, \n",
    "              loss={'walking': 'binary_crossentropy', \n",
    "                    'turning': 'binary_crossentropy', \n",
    "                    'start_hesitation': 'binary_crossentropy'},\n",
    "              metrics=['accuracy'])\n",
    "\n",
    "epochs = 2\n",
    "batch_size = 96\n"
   ]
  },
  {
   "cell_type": "code",
   "execution_count": 25,
   "id": "c56960bc",
   "metadata": {},
   "outputs": [
    {
     "name": "stdout",
     "output_type": "stream",
     "text": [
      "Epoch 1/50\n",
      "1042/1042 [==============================] - 6s 6ms/step - loss: 0.6368 - walking_loss: 0.1132 - turning_loss: 0.4283 - start_hesitation_loss: 0.0953 - walking_accuracy: 0.9717 - turning_accuracy: 0.8072 - start_hesitation_accuracy: 0.9723 - lr: 1.2500e-04\n",
      "Epoch 2/50\n",
      "1042/1042 [==============================] - 7s 7ms/step - loss: 0.6364 - walking_loss: 0.1130 - turning_loss: 0.4280 - start_hesitation_loss: 0.0953 - walking_accuracy: 0.9717 - turning_accuracy: 0.8076 - start_hesitation_accuracy: 0.9723 - lr: 1.2500e-04\n",
      "Epoch 3/50\n",
      "1042/1042 [==============================] - 8s 7ms/step - loss: 0.6368 - walking_loss: 0.1133 - turning_loss: 0.4283 - start_hesitation_loss: 0.0952 - walking_accuracy: 0.9717 - turning_accuracy: 0.8071 - start_hesitation_accuracy: 0.9723 - lr: 1.2500e-04\n",
      "Epoch 4/50\n",
      "1042/1042 [==============================] - 9s 8ms/step - loss: 0.6370 - walking_loss: 0.1132 - turning_loss: 0.4286 - start_hesitation_loss: 0.0952 - walking_accuracy: 0.9717 - turning_accuracy: 0.8068 - start_hesitation_accuracy: 0.9723 - lr: 1.2500e-04\n",
      "Epoch 5/50\n",
      "1041/1042 [============================>.] - ETA: 0s - loss: 0.6366 - walking_loss: 0.1131 - turning_loss: 0.4281 - start_hesitation_loss: 0.0954 - walking_accuracy: 0.9717 - turning_accuracy: 0.8076 - start_hesitation_accuracy: 0.9723\n",
      "Epoch 5: ReduceLROnPlateau reducing learning rate to 6.25000029685907e-05.\n",
      "1042/1042 [==============================] - 8s 8ms/step - loss: 0.6366 - walking_loss: 0.1131 - turning_loss: 0.4281 - start_hesitation_loss: 0.0954 - walking_accuracy: 0.9717 - turning_accuracy: 0.8076 - start_hesitation_accuracy: 0.9723 - lr: 1.2500e-04\n",
      "Epoch 6/50\n",
      "1042/1042 [==============================] - 9s 8ms/step - loss: 0.6361 - walking_loss: 0.1131 - turning_loss: 0.4280 - start_hesitation_loss: 0.0950 - walking_accuracy: 0.9717 - turning_accuracy: 0.8071 - start_hesitation_accuracy: 0.9723 - lr: 6.2500e-05\n",
      "Epoch 7/50\n",
      "1042/1042 [==============================] - 8s 8ms/step - loss: 0.6359 - walking_loss: 0.1132 - turning_loss: 0.4275 - start_hesitation_loss: 0.0952 - walking_accuracy: 0.9717 - turning_accuracy: 0.8075 - start_hesitation_accuracy: 0.9723 - lr: 6.2500e-05\n",
      "Epoch 8/50\n",
      "1042/1042 [==============================] - 8s 8ms/step - loss: 0.6357 - walking_loss: 0.1130 - turning_loss: 0.4275 - start_hesitation_loss: 0.0952 - walking_accuracy: 0.9717 - turning_accuracy: 0.8076 - start_hesitation_accuracy: 0.9723 - lr: 6.2500e-05\n",
      "Epoch 9/50\n",
      "1042/1042 [==============================] - 9s 9ms/step - loss: 0.6358 - walking_loss: 0.1132 - turning_loss: 0.4274 - start_hesitation_loss: 0.0952 - walking_accuracy: 0.9717 - turning_accuracy: 0.8072 - start_hesitation_accuracy: 0.9723 - lr: 6.2500e-05\n",
      "Epoch 10/50\n",
      "1042/1042 [==============================] - 9s 8ms/step - loss: 0.6356 - walking_loss: 0.1131 - turning_loss: 0.4275 - start_hesitation_loss: 0.0950 - walking_accuracy: 0.9717 - turning_accuracy: 0.8074 - start_hesitation_accuracy: 0.9723 - lr: 6.2500e-05\n",
      "Epoch 11/50\n",
      "1042/1042 [==============================] - 9s 9ms/step - loss: 0.6355 - walking_loss: 0.1131 - turning_loss: 0.4274 - start_hesitation_loss: 0.0950 - walking_accuracy: 0.9717 - turning_accuracy: 0.8074 - start_hesitation_accuracy: 0.9723 - lr: 6.2500e-05\n",
      "Epoch 12/50\n",
      "1042/1042 [==============================] - 9s 9ms/step - loss: 0.6360 - walking_loss: 0.1130 - turning_loss: 0.4278 - start_hesitation_loss: 0.0952 - walking_accuracy: 0.9717 - turning_accuracy: 0.8079 - start_hesitation_accuracy: 0.9723 - lr: 6.2500e-05\n",
      "Epoch 13/50\n",
      "1042/1042 [==============================] - 9s 9ms/step - loss: 0.6349 - walking_loss: 0.1131 - turning_loss: 0.4267 - start_hesitation_loss: 0.0950 - walking_accuracy: 0.9717 - turning_accuracy: 0.8080 - start_hesitation_accuracy: 0.9723 - lr: 6.2500e-05\n",
      "Epoch 14/50\n",
      "1042/1042 [==============================] - 9s 9ms/step - loss: 0.6353 - walking_loss: 0.1131 - turning_loss: 0.4272 - start_hesitation_loss: 0.0950 - walking_accuracy: 0.9717 - turning_accuracy: 0.8082 - start_hesitation_accuracy: 0.9723 - lr: 6.2500e-05\n",
      "Epoch 15/50\n",
      "1042/1042 [==============================] - 9s 9ms/step - loss: 0.6352 - walking_loss: 0.1131 - turning_loss: 0.4271 - start_hesitation_loss: 0.0950 - walking_accuracy: 0.9717 - turning_accuracy: 0.8076 - start_hesitation_accuracy: 0.9723 - lr: 6.2500e-05\n",
      "Epoch 16/50\n",
      "1042/1042 [==============================] - ETA: 0s - loss: 0.6352 - walking_loss: 0.1130 - turning_loss: 0.4274 - start_hesitation_loss: 0.0948 - walking_accuracy: 0.9717 - turning_accuracy: 0.8082 - start_hesitation_accuracy: 0.9723\n",
      "Epoch 16: ReduceLROnPlateau reducing learning rate to 3.125000148429535e-05.\n",
      "1042/1042 [==============================] - 9s 9ms/step - loss: 0.6352 - walking_loss: 0.1130 - turning_loss: 0.4274 - start_hesitation_loss: 0.0948 - walking_accuracy: 0.9717 - turning_accuracy: 0.8082 - start_hesitation_accuracy: 0.9723 - lr: 6.2500e-05\n",
      "Epoch 17/50\n",
      "1042/1042 [==============================] - 9s 8ms/step - loss: 0.6355 - walking_loss: 0.1131 - turning_loss: 0.4273 - start_hesitation_loss: 0.0951 - walking_accuracy: 0.9717 - turning_accuracy: 0.8079 - start_hesitation_accuracy: 0.9723 - lr: 3.1250e-05\n",
      "Epoch 18/50\n",
      "1042/1042 [==============================] - 9s 9ms/step - loss: 0.6349 - walking_loss: 0.1129 - turning_loss: 0.4270 - start_hesitation_loss: 0.0949 - walking_accuracy: 0.9717 - turning_accuracy: 0.8077 - start_hesitation_accuracy: 0.9723 - lr: 3.1250e-05\n",
      "Epoch 19/50\n",
      "1041/1042 [============================>.] - ETA: 0s - loss: 0.6348 - walking_loss: 0.1130 - turning_loss: 0.4270 - start_hesitation_loss: 0.0948 - walking_accuracy: 0.9717 - turning_accuracy: 0.8075 - start_hesitation_accuracy: 0.9723\n",
      "Epoch 19: ReduceLROnPlateau reducing learning rate to 1.5625000742147677e-05.\n",
      "1042/1042 [==============================] - 11s 11ms/step - loss: 0.6349 - walking_loss: 0.1130 - turning_loss: 0.4270 - start_hesitation_loss: 0.0949 - walking_accuracy: 0.9717 - turning_accuracy: 0.8075 - start_hesitation_accuracy: 0.9723 - lr: 3.1250e-05\n",
      "Epoch 20/50\n",
      "1042/1042 [==============================] - 9s 8ms/step - loss: 0.6346 - walking_loss: 0.1129 - turning_loss: 0.4267 - start_hesitation_loss: 0.0950 - walking_accuracy: 0.9717 - turning_accuracy: 0.8079 - start_hesitation_accuracy: 0.9723 - lr: 1.5625e-05\n",
      "Epoch 21/50\n",
      "1042/1042 [==============================] - 8s 8ms/step - loss: 0.6342 - walking_loss: 0.1130 - turning_loss: 0.4265 - start_hesitation_loss: 0.0947 - walking_accuracy: 0.9717 - turning_accuracy: 0.8080 - start_hesitation_accuracy: 0.9723 - lr: 1.5625e-05\n",
      "Epoch 22/50\n",
      "1042/1042 [==============================] - 8s 7ms/step - loss: 0.6346 - walking_loss: 0.1130 - turning_loss: 0.4267 - start_hesitation_loss: 0.0950 - walking_accuracy: 0.9717 - turning_accuracy: 0.8074 - start_hesitation_accuracy: 0.9723 - lr: 1.5625e-05\n",
      "Epoch 23/50\n",
      "1042/1042 [==============================] - 8s 8ms/step - loss: 0.6349 - walking_loss: 0.1129 - turning_loss: 0.4270 - start_hesitation_loss: 0.0950 - walking_accuracy: 0.9717 - turning_accuracy: 0.8077 - start_hesitation_accuracy: 0.9723 - lr: 1.5625e-05\n",
      "Epoch 24/50\n",
      "1038/1042 [============================>.] - ETA: 0s - loss: 0.6342 - walking_loss: 0.1130 - turning_loss: 0.4265 - start_hesitation_loss: 0.0948 - walking_accuracy: 0.9717 - turning_accuracy: 0.8079 - start_hesitation_accuracy: 0.9723\n",
      "Epoch 24: ReduceLROnPlateau reducing learning rate to 1e-05.\n",
      "1042/1042 [==============================] - 8s 8ms/step - loss: 0.6344 - walking_loss: 0.1130 - turning_loss: 0.4266 - start_hesitation_loss: 0.0948 - walking_accuracy: 0.9717 - turning_accuracy: 0.8077 - start_hesitation_accuracy: 0.9723 - lr: 1.5625e-05\n",
      "Epoch 25/50\n",
      "1042/1042 [==============================] - 10s 10ms/step - loss: 0.6352 - walking_loss: 0.1130 - turning_loss: 0.4272 - start_hesitation_loss: 0.0949 - walking_accuracy: 0.9717 - turning_accuracy: 0.8077 - start_hesitation_accuracy: 0.9722 - lr: 1.0000e-05\n",
      "Epoch 26/50\n",
      "1042/1042 [==============================] - 9s 9ms/step - loss: 0.6349 - walking_loss: 0.1130 - turning_loss: 0.4270 - start_hesitation_loss: 0.0949 - walking_accuracy: 0.9717 - turning_accuracy: 0.8081 - start_hesitation_accuracy: 0.9723 - lr: 1.0000e-05\n",
      "Epoch 27/50\n",
      "1042/1042 [==============================] - 8s 8ms/step - loss: 0.6345 - walking_loss: 0.1129 - turning_loss: 0.4268 - start_hesitation_loss: 0.0949 - walking_accuracy: 0.9717 - turning_accuracy: 0.8081 - start_hesitation_accuracy: 0.9723 - lr: 1.0000e-05\n",
      "Epoch 28/50\n",
      "1042/1042 [==============================] - 9s 9ms/step - loss: 0.6348 - walking_loss: 0.1129 - turning_loss: 0.4270 - start_hesitation_loss: 0.0950 - walking_accuracy: 0.9717 - turning_accuracy: 0.8079 - start_hesitation_accuracy: 0.9723 - lr: 1.0000e-05\n",
      "Epoch 29/50\n",
      "1042/1042 [==============================] - 9s 9ms/step - loss: 0.6346 - walking_loss: 0.1128 - turning_loss: 0.4268 - start_hesitation_loss: 0.0950 - walking_accuracy: 0.9717 - turning_accuracy: 0.8080 - start_hesitation_accuracy: 0.9722 - lr: 1.0000e-05\n",
      "Epoch 30/50\n",
      "1042/1042 [==============================] - 8s 8ms/step - loss: 0.6346 - walking_loss: 0.1129 - turning_loss: 0.4267 - start_hesitation_loss: 0.0949 - walking_accuracy: 0.9717 - turning_accuracy: 0.8079 - start_hesitation_accuracy: 0.9723 - lr: 1.0000e-05\n",
      "Epoch 31/50\n",
      "1042/1042 [==============================] - 9s 8ms/step - loss: 0.6344 - walking_loss: 0.1131 - turning_loss: 0.4265 - start_hesitation_loss: 0.0948 - walking_accuracy: 0.9717 - turning_accuracy: 0.8079 - start_hesitation_accuracy: 0.9723 - lr: 1.0000e-05\n",
      "Epoch 32/50\n",
      "1042/1042 [==============================] - 8s 8ms/step - loss: 0.6347 - walking_loss: 0.1130 - turning_loss: 0.4269 - start_hesitation_loss: 0.0948 - walking_accuracy: 0.9717 - turning_accuracy: 0.8075 - start_hesitation_accuracy: 0.9723 - lr: 1.0000e-05\n",
      "Epoch 33/50\n",
      "1042/1042 [==============================] - 9s 9ms/step - loss: 0.6344 - walking_loss: 0.1130 - turning_loss: 0.4266 - start_hesitation_loss: 0.0948 - walking_accuracy: 0.9717 - turning_accuracy: 0.8079 - start_hesitation_accuracy: 0.9723 - lr: 1.0000e-05\n",
      "Epoch 34/50\n",
      "1042/1042 [==============================] - 9s 8ms/step - loss: 0.6346 - walking_loss: 0.1129 - turning_loss: 0.4267 - start_hesitation_loss: 0.0949 - walking_accuracy: 0.9717 - turning_accuracy: 0.8082 - start_hesitation_accuracy: 0.9723 - lr: 1.0000e-05\n",
      "Epoch 35/50\n",
      "1042/1042 [==============================] - 8s 8ms/step - loss: 0.6342 - walking_loss: 0.1128 - turning_loss: 0.4265 - start_hesitation_loss: 0.0948 - walking_accuracy: 0.9717 - turning_accuracy: 0.8078 - start_hesitation_accuracy: 0.9723 - lr: 1.0000e-05\n",
      "Epoch 36/50\n",
      "1042/1042 [==============================] - 7s 7ms/step - loss: 0.6344 - walking_loss: 0.1130 - turning_loss: 0.4264 - start_hesitation_loss: 0.0949 - walking_accuracy: 0.9717 - turning_accuracy: 0.8076 - start_hesitation_accuracy: 0.9723 - lr: 1.0000e-05\n",
      "Epoch 37/50\n",
      "1042/1042 [==============================] - 7s 7ms/step - loss: 0.6343 - walking_loss: 0.1129 - turning_loss: 0.4265 - start_hesitation_loss: 0.0948 - walking_accuracy: 0.9717 - turning_accuracy: 0.8081 - start_hesitation_accuracy: 0.9723 - lr: 1.0000e-05\n",
      "Epoch 38/50\n",
      "1042/1042 [==============================] - 7s 7ms/step - loss: 0.6346 - walking_loss: 0.1129 - turning_loss: 0.4269 - start_hesitation_loss: 0.0949 - walking_accuracy: 0.9717 - turning_accuracy: 0.8077 - start_hesitation_accuracy: 0.9723 - lr: 1.0000e-05\n",
      "Epoch 39/50\n",
      "1042/1042 [==============================] - 7s 7ms/step - loss: 0.6343 - walking_loss: 0.1128 - turning_loss: 0.4266 - start_hesitation_loss: 0.0949 - walking_accuracy: 0.9717 - turning_accuracy: 0.8080 - start_hesitation_accuracy: 0.9723 - lr: 1.0000e-05\n",
      "Epoch 40/50\n",
      "1042/1042 [==============================] - 7s 7ms/step - loss: 0.6345 - walking_loss: 0.1129 - turning_loss: 0.4270 - start_hesitation_loss: 0.0947 - walking_accuracy: 0.9717 - turning_accuracy: 0.8076 - start_hesitation_accuracy: 0.9723 - lr: 1.0000e-05\n",
      "Epoch 41/50\n",
      "1042/1042 [==============================] - 9s 8ms/step - loss: 0.6343 - walking_loss: 0.1128 - turning_loss: 0.4267 - start_hesitation_loss: 0.0948 - walking_accuracy: 0.9717 - turning_accuracy: 0.8079 - start_hesitation_accuracy: 0.9723 - lr: 1.0000e-05\n",
      "Epoch 42/50\n",
      "1042/1042 [==============================] - 9s 9ms/step - loss: 0.6344 - walking_loss: 0.1129 - turning_loss: 0.4268 - start_hesitation_loss: 0.0948 - walking_accuracy: 0.9717 - turning_accuracy: 0.8075 - start_hesitation_accuracy: 0.9723 - lr: 1.0000e-05\n",
      "Epoch 43/50\n",
      "1042/1042 [==============================] - 10s 9ms/step - loss: 0.6340 - walking_loss: 0.1129 - turning_loss: 0.4262 - start_hesitation_loss: 0.0949 - walking_accuracy: 0.9717 - turning_accuracy: 0.8078 - start_hesitation_accuracy: 0.9722 - lr: 1.0000e-05\n",
      "Epoch 44/50\n",
      "1042/1042 [==============================] - 9s 9ms/step - loss: 0.6346 - walking_loss: 0.1129 - turning_loss: 0.4269 - start_hesitation_loss: 0.0949 - walking_accuracy: 0.9717 - turning_accuracy: 0.8073 - start_hesitation_accuracy: 0.9722 - lr: 1.0000e-05\n",
      "Epoch 45/50\n",
      "1042/1042 [==============================] - 9s 9ms/step - loss: 0.6347 - walking_loss: 0.1128 - turning_loss: 0.4271 - start_hesitation_loss: 0.0948 - walking_accuracy: 0.9717 - turning_accuracy: 0.8074 - start_hesitation_accuracy: 0.9723 - lr: 1.0000e-05\n",
      "Epoch 46/50\n",
      "1042/1042 [==============================] - 10s 9ms/step - loss: 0.6347 - walking_loss: 0.1131 - turning_loss: 0.4266 - start_hesitation_loss: 0.0950 - walking_accuracy: 0.9717 - turning_accuracy: 0.8080 - start_hesitation_accuracy: 0.9723 - lr: 1.0000e-05\n",
      "Epoch 47/50\n",
      "1042/1042 [==============================] - 9s 8ms/step - loss: 0.6343 - walking_loss: 0.1130 - turning_loss: 0.4264 - start_hesitation_loss: 0.0949 - walking_accuracy: 0.9717 - turning_accuracy: 0.8081 - start_hesitation_accuracy: 0.9723 - lr: 1.0000e-05\n",
      "Epoch 48/50\n",
      "1042/1042 [==============================] - 8s 8ms/step - loss: 0.6347 - walking_loss: 0.1129 - turning_loss: 0.4270 - start_hesitation_loss: 0.0948 - walking_accuracy: 0.9717 - turning_accuracy: 0.8076 - start_hesitation_accuracy: 0.9723 - lr: 1.0000e-05\n",
      "Epoch 49/50\n",
      "1042/1042 [==============================] - 9s 8ms/step - loss: 0.6347 - walking_loss: 0.1129 - turning_loss: 0.4271 - start_hesitation_loss: 0.0948 - walking_accuracy: 0.9717 - turning_accuracy: 0.8078 - start_hesitation_accuracy: 0.9723 - lr: 1.0000e-05\n",
      "Epoch 50/50\n",
      "1042/1042 [==============================] - 8s 8ms/step - loss: 0.6344 - walking_loss: 0.1131 - turning_loss: 0.4264 - start_hesitation_loss: 0.0949 - walking_accuracy: 0.9717 - turning_accuracy: 0.8077 - start_hesitation_accuracy: 0.9722 - lr: 1.0000e-05\n"
     ]
    }
   ],
   "source": [
    "from tensorflow.keras.callbacks import ReduceLROnPlateau\n",
    "\n",
    "lr_scheduler = ReduceLROnPlateau(monitor='loss', factor=0.5, patience=3, min_lr=1e-5, verbose=1)\n",
    "\n",
    "\n",
    "history = model.fit(x_train, \n",
    "                    {'walking': y_walking_train, \n",
    "                     'turning': y_turn_train, \n",
    "                     'start_hesitation': y_SH_train}, \n",
    "                    batch_size=batch_size, epochs=50,callbacks=[lr_scheduler])\n",
    "\n"
   ]
  },
  {
   "cell_type": "code",
   "execution_count": 36,
   "id": "85241465",
   "metadata": {},
   "outputs": [
    {
     "name": "stdout",
     "output_type": "stream",
     "text": [
      "Final Training Loss: 0.634383499622345\n",
      "Final Walking Accuracy: 0.9716699719429016\n",
      "Final Turning Accuracy: 0.8076900243759155\n",
      "Final SH Accuracy: 0.9722499847412109\n"
     ]
    }
   ],
   "source": [
    "print(f\"Final Training Loss: {history.history['loss'][-1]}\")\n",
    "print(f\"Final Walking Accuracy: {history.history['walking_accuracy'][-1]}\")\n",
    "print(f\"Final Turning Accuracy: {history.history['turning_accuracy'][-1]}\")\n",
    "print(f\"Final SH Accuracy: {history.history['start_hesitation_accuracy'][-1]}\")\n"
   ]
  },
  {
   "cell_type": "code",
   "execution_count": 26,
   "id": "2920345a",
   "metadata": {
    "execution": {
     "iopub.execute_input": "2024-03-02T15:47:55.771950Z",
     "iopub.status.busy": "2024-03-02T15:47:55.771653Z",
     "iopub.status.idle": "2024-03-02T15:47:55.810390Z",
     "shell.execute_reply": "2024-03-02T15:47:55.809471Z"
    },
    "papermill": {
     "duration": 0.061296,
     "end_time": "2024-03-02T15:47:55.822908",
     "exception": false,
     "start_time": "2024-03-02T15:47:55.761612",
     "status": "completed"
    },
    "tags": []
   },
   "outputs": [
    {
     "name": "stdout",
     "output_type": "stream",
     "text": [
      "Model: \"model\"\n",
      "__________________________________________________________________________________________________\n",
      " Layer (type)                   Output Shape         Param #     Connected to                     \n",
      "==================================================================================================\n",
      " input_1 (InputLayer)           [(None, 3, 1)]       0           []                               \n",
      "                                                                                                  \n",
      " conv1d (Conv1D)                (None, 3, 64)        256         ['input_1[0][0]']                \n",
      "                                                                                                  \n",
      " batch_normalization (BatchNorm  (None, 3, 64)       256         ['conv1d[0][0]']                 \n",
      " alization)                                                                                       \n",
      "                                                                                                  \n",
      " re_lu (ReLU)                   (None, 3, 64)        0           ['batch_normalization[0][0]']    \n",
      "                                                                                                  \n",
      " conv1d_1 (Conv1D)              (None, 3, 64)        12352       ['re_lu[0][0]']                  \n",
      "                                                                                                  \n",
      " batch_normalization_1 (BatchNo  (None, 3, 64)       256         ['conv1d_1[0][0]']               \n",
      " rmalization)                                                                                     \n",
      "                                                                                                  \n",
      " re_lu_1 (ReLU)                 (None, 3, 64)        0           ['batch_normalization_1[0][0]']  \n",
      "                                                                                                  \n",
      " conv1d_2 (Conv1D)              (None, 3, 64)        12352       ['re_lu_1[0][0]']                \n",
      "                                                                                                  \n",
      " batch_normalization_2 (BatchNo  (None, 3, 64)       256         ['conv1d_2[0][0]']               \n",
      " rmalization)                                                                                     \n",
      "                                                                                                  \n",
      " re_lu_2 (ReLU)                 (None, 3, 64)        0           ['batch_normalization_2[0][0]']  \n",
      "                                                                                                  \n",
      " global_average_pooling1d (Glob  (None, 64)          0           ['re_lu_2[0][0]']                \n",
      " alAveragePooling1D)                                                                              \n",
      "                                                                                                  \n",
      " walking (Dense)                (None, 1)            65          ['global_average_pooling1d[0][0]'\n",
      "                                                                 ]                                \n",
      "                                                                                                  \n",
      " turning (Dense)                (None, 1)            65          ['global_average_pooling1d[0][0]'\n",
      "                                                                 ]                                \n",
      "                                                                                                  \n",
      " start_hesitation (Dense)       (None, 1)            65          ['global_average_pooling1d[0][0]'\n",
      "                                                                 ]                                \n",
      "                                                                                                  \n",
      "==================================================================================================\n",
      "Total params: 25,923\n",
      "Trainable params: 25,539\n",
      "Non-trainable params: 384\n",
      "__________________________________________________________________________________________________\n"
     ]
    }
   ],
   "source": [
    "model.summary()"
   ]
  },
  {
   "cell_type": "code",
   "execution_count": 41,
   "id": "2e5a6ad0",
   "metadata": {},
   "outputs": [
    {
     "name": "stdout",
     "output_type": "stream",
     "text": [
      "147/147 [==============================] - 1s 4ms/step\n",
      "[array([[0.0004974 ],\n",
      "       [0.00048312],\n",
      "       [0.00048508],\n",
      "       ...,\n",
      "       [0.00020125],\n",
      "       [0.00019972],\n",
      "       [0.00019969]], dtype=float32), array([[0.00255989],\n",
      "       [0.00249217],\n",
      "       [0.00250882],\n",
      "       ...,\n",
      "       [0.00125433],\n",
      "       [0.00124814],\n",
      "       [0.00125834]], dtype=float32), array([[0.00058125],\n",
      "       [0.00056117],\n",
      "       [0.00056815],\n",
      "       ...,\n",
      "       [0.00028696],\n",
      "       [0.00028493],\n",
      "       [0.00027914]], dtype=float32)]\n"
     ]
    },
    {
     "ename": "ValueError",
     "evalue": "All arrays must be of the same length",
     "output_type": "error",
     "traceback": [
      "\u001b[1;31m---------------------------------------------------------------------------\u001b[0m",
      "\u001b[1;31mValueError\u001b[0m                                Traceback (most recent call last)",
      "Cell \u001b[1;32mIn[41], line 18\u001b[0m\n\u001b[0;32m     14\u001b[0m predictions_start_hesitation \u001b[38;5;241m=\u001b[39m (predictions[\u001b[38;5;241m2\u001b[39m] \u001b[38;5;241m>\u001b[39m threshold)\u001b[38;5;241m.\u001b[39mastype(\u001b[38;5;28mint\u001b[39m)\n\u001b[0;32m     17\u001b[0m \u001b[38;5;66;03m# Create the final submission DataFrame\u001b[39;00m\n\u001b[1;32m---> 18\u001b[0m submission_df \u001b[38;5;241m=\u001b[39m \u001b[43mpd\u001b[49m\u001b[38;5;241;43m.\u001b[39;49m\u001b[43mDataFrame\u001b[49m\u001b[43m(\u001b[49m\u001b[43m{\u001b[49m\n\u001b[0;32m     19\u001b[0m \u001b[43m    \u001b[49m\u001b[38;5;124;43m\"\u001b[39;49m\u001b[38;5;124;43mId\u001b[39;49m\u001b[38;5;124;43m\"\u001b[39;49m\u001b[43m:\u001b[49m\u001b[43m \u001b[49m\u001b[43mtest_data\u001b[49m\u001b[38;5;241;43m.\u001b[39;49m\u001b[43mindex\u001b[49m\u001b[43m,\u001b[49m\u001b[43m  \u001b[49m\u001b[38;5;66;43;03m# Ensure ID matches test data index\u001b[39;49;00m\n\u001b[0;32m     20\u001b[0m \u001b[43m    \u001b[49m\u001b[38;5;124;43m\"\u001b[39;49m\u001b[38;5;124;43mStartHesitation\u001b[39;49m\u001b[38;5;124;43m\"\u001b[39;49m\u001b[43m:\u001b[49m\u001b[43m \u001b[49m\u001b[43mpredictions_start_hesitation\u001b[49m\u001b[38;5;241;43m.\u001b[39;49m\u001b[43mflatten\u001b[49m\u001b[43m(\u001b[49m\u001b[43m)\u001b[49m\u001b[43m,\u001b[49m\n\u001b[0;32m     21\u001b[0m \u001b[43m    \u001b[49m\u001b[38;5;124;43m\"\u001b[39;49m\u001b[38;5;124;43mTurn\u001b[39;49m\u001b[38;5;124;43m\"\u001b[39;49m\u001b[43m:\u001b[49m\u001b[43m \u001b[49m\u001b[43mpredictions_turn\u001b[49m\u001b[38;5;241;43m.\u001b[39;49m\u001b[43mflatten\u001b[49m\u001b[43m(\u001b[49m\u001b[43m)\u001b[49m\u001b[43m,\u001b[49m\n\u001b[0;32m     22\u001b[0m \u001b[43m    \u001b[49m\u001b[38;5;124;43m\"\u001b[39;49m\u001b[38;5;124;43mWalking\u001b[39;49m\u001b[38;5;124;43m\"\u001b[39;49m\u001b[43m:\u001b[49m\u001b[43m \u001b[49m\u001b[43mpredictions_walking\u001b[49m\u001b[38;5;241;43m.\u001b[39;49m\u001b[43mflatten\u001b[49m\u001b[43m(\u001b[49m\u001b[43m)\u001b[49m\n\u001b[0;32m     23\u001b[0m \u001b[43m}\u001b[49m\u001b[43m)\u001b[49m\n\u001b[0;32m     25\u001b[0m \u001b[38;5;28mprint\u001b[39m(submission_df\u001b[38;5;241m.\u001b[39mhead())  \u001b[38;5;66;03m# Verify output\u001b[39;00m\n",
      "File \u001b[1;32mc:\\ProgramData\\anaconda3\\envs\\mp4env\\lib\\site-packages\\pandas\\core\\frame.py:709\u001b[0m, in \u001b[0;36mDataFrame.__init__\u001b[1;34m(self, data, index, columns, dtype, copy)\u001b[0m\n\u001b[0;32m    703\u001b[0m     mgr \u001b[38;5;241m=\u001b[39m \u001b[38;5;28mself\u001b[39m\u001b[38;5;241m.\u001b[39m_init_mgr(\n\u001b[0;32m    704\u001b[0m         data, axes\u001b[38;5;241m=\u001b[39m{\u001b[38;5;124m\"\u001b[39m\u001b[38;5;124mindex\u001b[39m\u001b[38;5;124m\"\u001b[39m: index, \u001b[38;5;124m\"\u001b[39m\u001b[38;5;124mcolumns\u001b[39m\u001b[38;5;124m\"\u001b[39m: columns}, dtype\u001b[38;5;241m=\u001b[39mdtype, copy\u001b[38;5;241m=\u001b[39mcopy\n\u001b[0;32m    705\u001b[0m     )\n\u001b[0;32m    707\u001b[0m \u001b[38;5;28;01melif\u001b[39;00m \u001b[38;5;28misinstance\u001b[39m(data, \u001b[38;5;28mdict\u001b[39m):\n\u001b[0;32m    708\u001b[0m     \u001b[38;5;66;03m# GH#38939 de facto copy defaults to False only in non-dict cases\u001b[39;00m\n\u001b[1;32m--> 709\u001b[0m     mgr \u001b[38;5;241m=\u001b[39m \u001b[43mdict_to_mgr\u001b[49m\u001b[43m(\u001b[49m\u001b[43mdata\u001b[49m\u001b[43m,\u001b[49m\u001b[43m \u001b[49m\u001b[43mindex\u001b[49m\u001b[43m,\u001b[49m\u001b[43m \u001b[49m\u001b[43mcolumns\u001b[49m\u001b[43m,\u001b[49m\u001b[43m \u001b[49m\u001b[43mdtype\u001b[49m\u001b[38;5;241;43m=\u001b[39;49m\u001b[43mdtype\u001b[49m\u001b[43m,\u001b[49m\u001b[43m \u001b[49m\u001b[43mcopy\u001b[49m\u001b[38;5;241;43m=\u001b[39;49m\u001b[43mcopy\u001b[49m\u001b[43m,\u001b[49m\u001b[43m \u001b[49m\u001b[43mtyp\u001b[49m\u001b[38;5;241;43m=\u001b[39;49m\u001b[43mmanager\u001b[49m\u001b[43m)\u001b[49m\n\u001b[0;32m    710\u001b[0m \u001b[38;5;28;01melif\u001b[39;00m \u001b[38;5;28misinstance\u001b[39m(data, ma\u001b[38;5;241m.\u001b[39mMaskedArray):\n\u001b[0;32m    711\u001b[0m     \u001b[38;5;28;01mfrom\u001b[39;00m \u001b[38;5;21;01mnumpy\u001b[39;00m\u001b[38;5;21;01m.\u001b[39;00m\u001b[38;5;21;01mma\u001b[39;00m \u001b[38;5;28;01mimport\u001b[39;00m mrecords\n",
      "File \u001b[1;32mc:\\ProgramData\\anaconda3\\envs\\mp4env\\lib\\site-packages\\pandas\\core\\internals\\construction.py:481\u001b[0m, in \u001b[0;36mdict_to_mgr\u001b[1;34m(data, index, columns, dtype, typ, copy)\u001b[0m\n\u001b[0;32m    477\u001b[0m     \u001b[38;5;28;01melse\u001b[39;00m:\n\u001b[0;32m    478\u001b[0m         \u001b[38;5;66;03m# dtype check to exclude e.g. range objects, scalars\u001b[39;00m\n\u001b[0;32m    479\u001b[0m         arrays \u001b[38;5;241m=\u001b[39m [x\u001b[38;5;241m.\u001b[39mcopy() \u001b[38;5;28;01mif\u001b[39;00m \u001b[38;5;28mhasattr\u001b[39m(x, \u001b[38;5;124m\"\u001b[39m\u001b[38;5;124mdtype\u001b[39m\u001b[38;5;124m\"\u001b[39m) \u001b[38;5;28;01melse\u001b[39;00m x \u001b[38;5;28;01mfor\u001b[39;00m x \u001b[38;5;129;01min\u001b[39;00m arrays]\n\u001b[1;32m--> 481\u001b[0m \u001b[38;5;28;01mreturn\u001b[39;00m \u001b[43marrays_to_mgr\u001b[49m\u001b[43m(\u001b[49m\u001b[43marrays\u001b[49m\u001b[43m,\u001b[49m\u001b[43m \u001b[49m\u001b[43mcolumns\u001b[49m\u001b[43m,\u001b[49m\u001b[43m \u001b[49m\u001b[43mindex\u001b[49m\u001b[43m,\u001b[49m\u001b[43m \u001b[49m\u001b[43mdtype\u001b[49m\u001b[38;5;241;43m=\u001b[39;49m\u001b[43mdtype\u001b[49m\u001b[43m,\u001b[49m\u001b[43m \u001b[49m\u001b[43mtyp\u001b[49m\u001b[38;5;241;43m=\u001b[39;49m\u001b[43mtyp\u001b[49m\u001b[43m,\u001b[49m\u001b[43m \u001b[49m\u001b[43mconsolidate\u001b[49m\u001b[38;5;241;43m=\u001b[39;49m\u001b[43mcopy\u001b[49m\u001b[43m)\u001b[49m\n",
      "File \u001b[1;32mc:\\ProgramData\\anaconda3\\envs\\mp4env\\lib\\site-packages\\pandas\\core\\internals\\construction.py:115\u001b[0m, in \u001b[0;36marrays_to_mgr\u001b[1;34m(arrays, columns, index, dtype, verify_integrity, typ, consolidate)\u001b[0m\n\u001b[0;32m    112\u001b[0m \u001b[38;5;28;01mif\u001b[39;00m verify_integrity:\n\u001b[0;32m    113\u001b[0m     \u001b[38;5;66;03m# figure out the index, if necessary\u001b[39;00m\n\u001b[0;32m    114\u001b[0m     \u001b[38;5;28;01mif\u001b[39;00m index \u001b[38;5;129;01mis\u001b[39;00m \u001b[38;5;28;01mNone\u001b[39;00m:\n\u001b[1;32m--> 115\u001b[0m         index \u001b[38;5;241m=\u001b[39m \u001b[43m_extract_index\u001b[49m\u001b[43m(\u001b[49m\u001b[43marrays\u001b[49m\u001b[43m)\u001b[49m\n\u001b[0;32m    116\u001b[0m     \u001b[38;5;28;01melse\u001b[39;00m:\n\u001b[0;32m    117\u001b[0m         index \u001b[38;5;241m=\u001b[39m ensure_index(index)\n",
      "File \u001b[1;32mc:\\ProgramData\\anaconda3\\envs\\mp4env\\lib\\site-packages\\pandas\\core\\internals\\construction.py:655\u001b[0m, in \u001b[0;36m_extract_index\u001b[1;34m(data)\u001b[0m\n\u001b[0;32m    653\u001b[0m lengths \u001b[38;5;241m=\u001b[39m \u001b[38;5;28mlist\u001b[39m(\u001b[38;5;28mset\u001b[39m(raw_lengths))\n\u001b[0;32m    654\u001b[0m \u001b[38;5;28;01mif\u001b[39;00m \u001b[38;5;28mlen\u001b[39m(lengths) \u001b[38;5;241m>\u001b[39m \u001b[38;5;241m1\u001b[39m:\n\u001b[1;32m--> 655\u001b[0m     \u001b[38;5;28;01mraise\u001b[39;00m \u001b[38;5;167;01mValueError\u001b[39;00m(\u001b[38;5;124m\"\u001b[39m\u001b[38;5;124mAll arrays must be of the same length\u001b[39m\u001b[38;5;124m\"\u001b[39m)\n\u001b[0;32m    657\u001b[0m \u001b[38;5;28;01mif\u001b[39;00m have_dicts:\n\u001b[0;32m    658\u001b[0m     \u001b[38;5;28;01mraise\u001b[39;00m \u001b[38;5;167;01mValueError\u001b[39;00m(\n\u001b[0;32m    659\u001b[0m         \u001b[38;5;124m\"\u001b[39m\u001b[38;5;124mMixing dicts with non-Series may lead to ambiguous ordering.\u001b[39m\u001b[38;5;124m\"\u001b[39m\n\u001b[0;32m    660\u001b[0m     )\n",
      "\u001b[1;31mValueError\u001b[0m: All arrays must be of the same length"
     ]
    }
   ],
   "source": [
    "\n",
    "\n",
    "# Load Test Data\n",
    "test_data = pd.read_csv('data/test/tdcsfog/003f117e14.csv')  # Update with correct path\n",
    "\n",
    "# Extract Features (Update if using more features)\n",
    "x_test = test_data[['AccV', 'AccML', 'AccAP']].values  \n",
    "\n",
    "threshold = 0.3  # Lower threshold to check if model is biased\n",
    "\n",
    "y_pred = model.predict(x_test)\n",
    "print(y_pred[:10])  # Check values before applying the threshold\n",
    "\n",
    "predictions_walking = (predictions[0] > threshold).astype(int)\n",
    "predictions_turn = (predictions[1] > threshold).astype(int)\n",
    "predictions_start_hesitation = (predictions[2] > threshold).astype(int)\n",
    "\n",
    "\n",
    "# Create the final submission DataFrame\n",
    "submission_df = pd.DataFrame({\n",
    "    \"Id\": test_data.index,  # Ensure ID matches test data index\n",
    "    \"StartHesitation\": predictions_start_hesitation.flatten(),\n",
    "    \"Turn\": predictions_turn.flatten(),\n",
    "    \"Walking\": predictions_walking.flatten()\n",
    "})\n",
    "\n",
    "print(submission_df.head())  # Verify output"
   ]
  },
  {
   "cell_type": "code",
   "execution_count": 32,
   "id": "eb6d5d96",
   "metadata": {},
   "outputs": [
    {
     "data": {
      "text/html": [
       "<div>\n",
       "<style scoped>\n",
       "    .dataframe tbody tr th:only-of-type {\n",
       "        vertical-align: middle;\n",
       "    }\n",
       "\n",
       "    .dataframe tbody tr th {\n",
       "        vertical-align: top;\n",
       "    }\n",
       "\n",
       "    .dataframe thead th {\n",
       "        text-align: right;\n",
       "    }\n",
       "</style>\n",
       "<table border=\"1\" class=\"dataframe\">\n",
       "  <thead>\n",
       "    <tr style=\"text-align: right;\">\n",
       "      <th></th>\n",
       "      <th>Time</th>\n",
       "      <th>AccV</th>\n",
       "      <th>AccML</th>\n",
       "      <th>AccAP</th>\n",
       "    </tr>\n",
       "  </thead>\n",
       "  <tbody>\n",
       "    <tr>\n",
       "      <th>0</th>\n",
       "      <td>0</td>\n",
       "      <td>-0.914652</td>\n",
       "      <td>-0.300851</td>\n",
       "      <td>0.298156</td>\n",
       "    </tr>\n",
       "    <tr>\n",
       "      <th>1</th>\n",
       "      <td>1</td>\n",
       "      <td>-0.914367</td>\n",
       "      <td>-0.301572</td>\n",
       "      <td>0.298325</td>\n",
       "    </tr>\n",
       "    <tr>\n",
       "      <th>2</th>\n",
       "      <td>2</td>\n",
       "      <td>-0.779540</td>\n",
       "      <td>-0.343197</td>\n",
       "      <td>0.275690</td>\n",
       "    </tr>\n",
       "    <tr>\n",
       "      <th>3</th>\n",
       "      <td>3</td>\n",
       "      <td>-0.993162</td>\n",
       "      <td>-0.270281</td>\n",
       "      <td>0.315775</td>\n",
       "    </tr>\n",
       "    <tr>\n",
       "      <th>4</th>\n",
       "      <td>4</td>\n",
       "      <td>-0.948767</td>\n",
       "      <td>-0.307849</td>\n",
       "      <td>0.297191</td>\n",
       "    </tr>\n",
       "  </tbody>\n",
       "</table>\n",
       "</div>"
      ],
      "text/plain": [
       "   Time      AccV     AccML     AccAP\n",
       "0     0 -0.914652 -0.300851  0.298156\n",
       "1     1 -0.914367 -0.301572  0.298325\n",
       "2     2 -0.779540 -0.343197  0.275690\n",
       "3     3 -0.993162 -0.270281  0.315775\n",
       "4     4 -0.948767 -0.307849  0.297191"
      ]
     },
     "execution_count": 32,
     "metadata": {},
     "output_type": "execute_result"
    }
   ],
   "source": [
    "test_data.head()"
   ]
  },
  {
   "cell_type": "code",
   "execution_count": 31,
   "id": "4ea25509",
   "metadata": {},
   "outputs": [
    {
     "data": {
      "text/plain": [
       "Index(['0', '1', '2', '3', '4', '5', '6', '7', '8', '9',\n",
       "       ...\n",
       "       '281678', '281679', '281680', '281681', '281682', '281683', '281684',\n",
       "       '281685', '281686', '281687'],\n",
       "      dtype='object', length=281688)"
      ]
     },
     "execution_count": 31,
     "metadata": {},
     "output_type": "execute_result"
    }
   ],
   "source": [
    "Id_seriestimepoints"
   ]
  },
  {
   "cell_type": "code",
   "execution_count": null,
   "id": "d63f98b4",
   "metadata": {},
   "outputs": [],
   "source": []
  }
 ],
 "metadata": {
  "kaggle": {
   "accelerator": "gpu",
   "dataSources": [
    {
     "databundleVersionId": 5677426,
     "sourceId": 41880,
     "sourceType": "competition"
    }
   ],
   "dockerImageVersionId": 30628,
   "isGpuEnabled": true,
   "isInternetEnabled": false,
   "language": "python",
   "sourceType": "notebook"
  },
  "kernelspec": {
   "display_name": "Python 3",
   "language": "python",
   "name": "python3"
  },
  "language_info": {
   "codemirror_mode": {
    "name": "ipython",
    "version": 3
   },
   "file_extension": ".py",
   "mimetype": "text/x-python",
   "name": "python",
   "nbconvert_exporter": "python",
   "pygments_lexer": "ipython3",
   "version": "3.8.20"
  },
  "papermill": {
   "default_parameters": {},
   "duration": 199.629818,
   "end_time": "2024-03-02T15:50:10.909712",
   "environment_variables": {},
   "exception": null,
   "input_path": "__notebook__.ipynb",
   "output_path": "__notebook__.ipynb",
   "parameters": {},
   "start_time": "2024-03-02T15:46:51.279894",
   "version": "2.4.0"
  }
 },
 "nbformat": 4,
 "nbformat_minor": 5
}
